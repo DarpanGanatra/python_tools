{
 "cells": [
  {
   "cell_type": "code",
   "execution_count": 9,
   "metadata": {},
   "outputs": [
    {
     "name": "stdout",
     "output_type": "stream",
     "text": [
      "h\n",
      "11\n",
      "hello world\n"
     ]
    }
   ],
   "source": [
    "#Assignment\n",
    "'''\n",
    "Format:\n",
    "    code here\n",
    "    what I think will happen here\n",
    "\n",
    "'''\n",
    "##################################################################\n",
    "##Strings\n",
    "\n",
    "data = 'hello world'\n",
    "print(data[0])\n",
    "#h\n",
    "print(len(data))\n",
    "#11\n",
    "print(data)\n",
    "#hello world"
   ]
  },
  {
   "cell_type": "code",
   "execution_count": 2,
   "metadata": {},
   "outputs": [
    {
     "name": "stdout",
     "output_type": "stream",
     "text": [
      "123.1\n",
      "10\n"
     ]
    }
   ],
   "source": [
    "##Numbers\n",
    "value = 123.1\n",
    "print(value)\n",
    "#123.1\n",
    "value = 10\n",
    "print(value)\n",
    "#10"
   ]
  },
  {
   "cell_type": "code",
   "execution_count": 3,
   "metadata": {},
   "outputs": [
    {
     "name": "stdout",
     "output_type": "stream",
     "text": [
      "True False\n"
     ]
    }
   ],
   "source": [
    "##Boolean\n",
    "a = True\n",
    "b = False\n",
    "print(a,b)\n",
    "#(True, False)"
   ]
  },
  {
   "cell_type": "code",
   "execution_count": 5,
   "metadata": {},
   "outputs": [
    {
     "name": "stdout",
     "output_type": "stream",
     "text": [
      "1 2 3\n"
     ]
    }
   ],
   "source": [
    "##Multiple Assignment\n",
    "a, b, c = 1, 2, 3\n",
    "print(a,b,c)\n",
    "#(1,2,3)\n",
    "#I was wrong here b/c in Python3 you need the paren anyway to print, vs Py2 you don't"
   ]
  },
  {
   "cell_type": "code",
   "execution_count": 6,
   "metadata": {},
   "outputs": [
    {
     "name": "stdout",
     "output_type": "stream",
     "text": [
      "None\n"
     ]
    }
   ],
   "source": [
    "##No Value\n",
    "a = None\n",
    "print(a)\n",
    "#Like the null set"
   ]
  },
  {
   "cell_type": "code",
   "execution_count": 11,
   "metadata": {},
   "outputs": [
    {
     "name": "stdout",
     "output_type": "stream",
     "text": [
      "That's fast\n"
     ]
    },
    {
     "data": {
      "text/plain": [
       "\"\\nYou test to see if it's 99 first, then to see if it's greater than 200. If it's not 99 or greater than 200, apparently it's safe\\n\""
      ]
     },
     "execution_count": 11,
     "metadata": {},
     "output_type": "execute_result"
    }
   ],
   "source": [
    "# Flow Control\n",
    "##################################################################\n",
    "value = 99\n",
    "if value == 99:\n",
    "    print(\"That's fast\")\n",
    "elif value > 200:\n",
    "    print(\"That's too fast\")\n",
    "else:\n",
    "    print(\"That is safe\")\n",
    "'''\n",
    "You test to see if it's 99 first, then to see if it's greater than 200. If it's not 99 or greater than 200, apparently it's safe\n",
    "'''"
   ]
  },
  {
   "cell_type": "code",
   "execution_count": 12,
   "metadata": {},
   "outputs": [
    {
     "name": "stdout",
     "output_type": "stream",
     "text": [
      "0\n",
      "1\n",
      "2\n",
      "3\n",
      "4\n",
      "5\n",
      "6\n",
      "7\n",
      "8\n",
      "9\n"
     ]
    }
   ],
   "source": [
    "#For-Loop\n",
    "for i in range(10):\n",
    "    print(i)"
   ]
  },
  {
   "cell_type": "code",
   "execution_count": 13,
   "metadata": {},
   "outputs": [
    {
     "name": "stdout",
     "output_type": "stream",
     "text": [
      "0\n",
      "1\n",
      "2\n",
      "3\n",
      "4\n",
      "5\n",
      "6\n",
      "7\n",
      "8\n",
      "9\n"
     ]
    }
   ],
   "source": [
    "#While-Loop\n",
    "i = 0\n",
    "while i<10:\n",
    "    print(i)\n",
    "    i +=1\n",
    "#When i < 10, you print i (starting from 0 here) and then add 1 to it"
   ]
  },
  {
   "cell_type": "code",
   "execution_count": 14,
   "metadata": {},
   "outputs": [
    {
     "name": "stdout",
     "output_type": "stream",
     "text": [
      "(1, 2, 3)\n"
     ]
    }
   ],
   "source": [
    "#Data structures\n",
    "##################################################################\n",
    "#Tuple\n",
    "a = (1,2,3)\n",
    "print(a)"
   ]
  },
  {
   "cell_type": "code",
   "execution_count": 27,
   "metadata": {},
   "outputs": [
    {
     "name": "stdout",
     "output_type": "stream",
     "text": [
      "Zeroth Value 1\n",
      "List length: 4\n",
      "1\n",
      "2\n",
      "3\n",
      "4\n"
     ]
    }
   ],
   "source": [
    "#List\n",
    "mylist = [1,2,3]\n",
    "print('Zeroth Value %d' % (mylist[0]))\n",
    "mylist.append(4)\n",
    "print(\"List length: %d\" % len(mylist))\n",
    "for value in mylist:\n",
    "    print(value)"
   ]
  },
  {
   "cell_type": "code",
   "execution_count": 29,
   "metadata": {},
   "outputs": [
    {
     "name": "stdout",
     "output_type": "stream",
     "text": [
      "Value of a: 1\n"
     ]
    }
   ],
   "source": [
    "#Dictonary\n",
    "mydict = {'a': 1, 'b':2, 'c': 3}\n",
    "print(\"Value of a: %d\" %mydict['a'])\n",
    "mydict['a'] = 11\n"
   ]
  },
  {
   "cell_type": "code",
   "execution_count": null,
   "metadata": {},
   "outputs": [],
   "source": []
  }
 ],
 "metadata": {
  "kernelspec": {
   "display_name": "Python 3",
   "language": "python",
   "name": "python3"
  },
  "language_info": {
   "codemirror_mode": {
    "name": "ipython",
    "version": 3
   },
   "file_extension": ".py",
   "mimetype": "text/x-python",
   "name": "python",
   "nbconvert_exporter": "python",
   "pygments_lexer": "ipython3",
   "version": "3.6.3"
  }
 },
 "nbformat": 4,
 "nbformat_minor": 2
}
